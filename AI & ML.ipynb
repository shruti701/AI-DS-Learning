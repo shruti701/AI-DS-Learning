{
 "cells": [
  {
   "cell_type": "markdown",
   "id": "3e507c4f-d2cd-4484-a0f8-f1eb00e721bb",
   "metadata": {},
   "source": [
    "<h1 aligen=\"center\"style=\"color:green\">Welcome to my AI & Data Science Learning Repository!! \n",
    "</h1>\n",
    "\n",
    "This contains my notes, code, and experiments in Machine Learning, supervised & unsupervised learning, and Python.\n",
    "\n",
    "## 📁 Topics Covered\n",
    "- Supervised Learning\n",
    "- Unsupervised Learning\n",
    "- Model Evaluation\n",
    "- Python Basics\n",
    "\n",
    "## 📌 Author\n",
    "3rd Year AI & DS | Passionate Learner 🌟\n",
    "Welcome to my AI & Data Science Learning Repository! \n"
   ]
  },
  {
   "cell_type": "code",
   "execution_count": null,
   "id": "c0385a5a-00d7-484c-9ceb-9f47b15fd11c",
   "metadata": {},
   "outputs": [],
   "source": []
  }
 ],
 "metadata": {
  "kernelspec": {
   "display_name": "Python 3 (ipykernel)",
   "language": "python",
   "name": "python3"
  },
  "language_info": {
   "codemirror_mode": {
    "name": "ipython",
    "version": 3
   },
   "file_extension": ".py",
   "mimetype": "text/x-python",
   "name": "python",
   "nbconvert_exporter": "python",
   "pygments_lexer": "ipython3",
   "version": "3.12.7"
  }
 },
 "nbformat": 4,
 "nbformat_minor": 5
}
